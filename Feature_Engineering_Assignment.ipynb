{
  "nbformat": 4,
  "nbformat_minor": 0,
  "metadata": {
    "colab": {
      "provenance": []
    },
    "kernelspec": {
      "name": "python3",
      "display_name": "Python 3"
    },
    "language_info": {
      "name": "python"
    }
  },
  "cells": [
    {
      "cell_type": "markdown",
      "source": [
        "#Question 1"
      ],
      "metadata": {
        "id": "mtaqREZbNK3P"
      }
    },
    {
      "cell_type": "code",
      "execution_count": 1,
      "metadata": {
        "id": "bvFHYMupKc6F"
      },
      "outputs": [],
      "source": [
        "import pandas as pd\n",
        "from sklearn.ensemble import RandomForestClassifier\n",
        "from sklearn.model_selection import train_test_split\n",
        "import matplotlib.pyplot as plt"
      ]
    },
    {
      "cell_type": "code",
      "source": [
        "df = pd.read_csv('/content/heart_disease.csv')"
      ],
      "metadata": {
        "id": "NuWfbGpHL-nR"
      },
      "execution_count": 2,
      "outputs": []
    },
    {
      "cell_type": "code",
      "source": [
        "print(\"Columns in dataset:\", df.columns)"
      ],
      "metadata": {
        "colab": {
          "base_uri": "https://localhost:8080/"
        },
        "id": "WwTMV31jMjeG",
        "outputId": "9c4aed70-a375-4be5-a600-83153434c6c0"
      },
      "execution_count": 3,
      "outputs": [
        {
          "output_type": "stream",
          "name": "stdout",
          "text": [
            "Columns in dataset: Index(['age', 'sex', 'cp', 'trestbps', 'chol', 'fbs', 'restecg', 'thalach',\n",
            "       'exang', 'oldpeak', 'slope', 'ca', 'thal', 'target'],\n",
            "      dtype='object')\n"
          ]
        }
      ]
    },
    {
      "cell_type": "code",
      "source": [
        "correlations = df.corr(numeric_only=True)['target'].drop('target')  # Drop self-correlation"
      ],
      "metadata": {
        "id": "_yZX42ykMmC9"
      },
      "execution_count": 4,
      "outputs": []
    },
    {
      "cell_type": "code",
      "source": [
        "top_5= correlations.abs().sort_values(ascending=False).head(5)"
      ],
      "metadata": {
        "id": "pAY5cYfIMpJV"
      },
      "execution_count": 5,
      "outputs": []
    },
    {
      "cell_type": "code",
      "source": [
        "print(\"Top 5 features most correlated with target:\\n\")\n",
        "print(top_5)"
      ],
      "metadata": {
        "colab": {
          "base_uri": "https://localhost:8080/"
        },
        "id": "g-0kaomtMtjX",
        "outputId": "64996627-0055-4f1f-e801-b67d1dd03021"
      },
      "execution_count": 6,
      "outputs": [
        {
          "output_type": "stream",
          "name": "stdout",
          "text": [
            "Top 5 features most correlated with target:\n",
            "\n",
            "oldpeak    0.438441\n",
            "exang      0.438029\n",
            "cp         0.434854\n",
            "thalach    0.422895\n",
            "ca         0.382085\n",
            "Name: target, dtype: float64\n"
          ]
        }
      ]
    },
    {
      "cell_type": "markdown",
      "source": [
        "#Q2"
      ],
      "metadata": {
        "id": "0VKfWhW9QCwx"
      }
    },
    {
      "cell_type": "code",
      "source": [
        "from scipy.stats import boxcox\n",
        "import numpy as np"
      ],
      "metadata": {
        "id": "jHBzqnWyMx6f"
      },
      "execution_count": 9,
      "outputs": []
    },
    {
      "cell_type": "code",
      "source": [
        "from scipy import stats\n",
        "num_ftrs = df.select_dtypes(include=np.number).columns.tolist()\n",
        "features_to_transform = [f for f in num_ftrs if f not in ['target', 'sex', 'fbs', 'exang', 'restecg', 'ca', 'thal']]\n",
        "for feature in features_to_transform:\n",
        "    if (df[feature] > 0).all():\n",
        "      df[feature], _ = stats.boxcox(df[feature])\n",
        "    else:\n",
        "        print(f\"Skipping Box-Cox transformation for '{feature}' as it contains non-positive values.\")\n",
        "print(\"\\nDataFrame after applying Box-Cox transformations:\")\n",
        "print(df.head())"
      ],
      "metadata": {
        "colab": {
          "base_uri": "https://localhost:8080/"
        },
        "id": "UX42ReJNPviZ",
        "outputId": "fe1b1cc9-3bf5-43f8-9236-89966bb5e1bf"
      },
      "execution_count": 18,
      "outputs": [
        {
          "output_type": "stream",
          "name": "stdout",
          "text": [
            "Skipping Box-Cox transformation for 'cp' as it contains non-positive values.\n",
            "Skipping Box-Cox transformation for 'oldpeak' as it contains non-positive values.\n",
            "Skipping Box-Cox transformation for 'slope' as it contains non-positive values.\n",
            "\n",
            "DataFrame after applying Box-Cox transformations:\n",
            "          age  sex  cp  trestbps      chol  fbs  restecg       thalach  exang  \\\n",
            "0  271.022426    1   0  0.326596  3.437567    0        1  31302.761017      0   \n",
            "1  279.066773    1   0  0.329893  3.408243    1        0  26279.867742      1   \n",
            "2  427.580007    1   0  0.330859  3.303150    0        1  16471.717088      1   \n",
            "3  346.254970    1   0  0.331412  3.408243    0        1  28539.281170      0   \n",
            "4  354.997982    0   0  0.329489  3.655097    1        1  11514.106856      0   \n",
            "\n",
            "   oldpeak  slope  ca  thal  target  age_boxcox  trestbps_boxcox  chol_boxcox  \\\n",
            "0      1.0      2   2     3       0  269.488280        -0.671781     2.458847   \n",
            "1      3.1      0   0     3       0  277.513295        -0.668503     2.429097   \n",
            "2      2.6      0   0     3       0  425.654223        -0.667542     2.322503   \n",
            "3      0.0      2   1     3       0  344.536410        -0.666993     2.429097   \n",
            "4      1.9      1   3     2       0  353.257506        -0.668905     2.679626   \n",
            "\n",
            "   thalach_boxcox  \n",
            "0    31300.059210  \n",
            "1    26277.465731  \n",
            "2    16469.883066  \n",
            "3    28536.744937  \n",
            "4    11512.547822  \n"
          ]
        }
      ]
    },
    {
      "cell_type": "markdown",
      "source": [
        "#Q3"
      ],
      "metadata": {
        "id": "M1O6Fa1nQH7C"
      }
    },
    {
      "cell_type": "code",
      "source": [
        "df['age_binned'] = pd.cut(df['age'], bins=5, labels=False)\n",
        "print(\"\\nDataFrame with Age Binning column:\")\n",
        "print(df[['age', 'age_binned']].head())"
      ],
      "metadata": {
        "colab": {
          "base_uri": "https://localhost:8080/"
        },
        "id": "ecK833CPQ-lV",
        "outputId": "6234fc1c-799d-4e31-fbaf-e01f9169fa69"
      },
      "execution_count": 23,
      "outputs": [
        {
          "output_type": "stream",
          "name": "stdout",
          "text": [
            "\n",
            "DataFrame with Age Binning column:\n",
            "          age  age_binned\n",
            "0  271.022426           2\n",
            "1  279.066773           2\n",
            "2  427.580007           4\n",
            "3  346.254970           3\n",
            "4  354.997982           3\n"
          ]
        }
      ]
    },
    {
      "cell_type": "markdown",
      "source": [
        "#Q4"
      ],
      "metadata": {
        "id": "nh0IJeeTQdIU"
      }
    },
    {
      "cell_type": "code",
      "source": [
        "correlation_matrix = df.corr()\n",
        "chol_correlations = correlation_matrix['chol'].drop('chol')\n",
        "most_orthogonal_feature = chol_correlations.abs().idxmin()\n",
        "print(f\"\\nThe most orthogonal feature to 'chol' is: {most_orthogonal_feature}\")"
      ],
      "metadata": {
        "colab": {
          "base_uri": "https://localhost:8080/"
        },
        "id": "tLzEIFXUQZ1r",
        "outputId": "b5afcc7d-96fd-4912-9d57-3cb248a2a941"
      },
      "execution_count": 22,
      "outputs": [
        {
          "output_type": "stream",
          "name": "stdout",
          "text": [
            "\n",
            "The most orthogonal feature to 'chol' is: slope\n"
          ]
        }
      ]
    },
    {
      "cell_type": "code",
      "source": [],
      "metadata": {
        "id": "tXzHGrsKQxsn"
      },
      "execution_count": null,
      "outputs": []
    }
  ]
}